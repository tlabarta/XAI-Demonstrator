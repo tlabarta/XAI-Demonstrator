{
 "cells": [
  {
   "cell_type": "markdown",
   "metadata": {},
   "source": [
    "# Example 1: Training a model\n",
    "---\n",
    "\n",
    "The following code downloads the [MNIST dataset](https://en.wikipedia.org/wiki/MNIST_database), defines a model with one hidden linear layer, and trains the model by backpropagation, trying to minimize the cross-entropy loss between predictions and actual targets. Model parameters trained with PyTorch can also be [saved and loaded](https://pytorch.org/tutorials/beginner/saving_loading_models.html)."
   ]
  },
  {
   "cell_type": "code",
   "execution_count": 1,
   "metadata": {
    "ExecuteTime": {
     "end_time": "2023-11-15T04:09:42.464832Z",
     "start_time": "2023-11-15T04:09:09.440529Z"
    }
   },
   "outputs": [
    {
     "name": "stdout",
     "output_type": "stream",
     "text": [
      "Training the Model:\n",
      "├─ Epoch 1 loss: 0.47731894076760134 (Acc.: 90.26 %)\n",
      "├─ Epoch 2 loss: 0.32210499435059553 (Acc.: 91.47 %)\n",
      "├─ Epoch 3 loss: 0.30779897099904924 (Acc.: 90.84 %)\n",
      "├─ Epoch 4 loss: 0.299109384592281 (Acc.: 91.54 %)\n",
      "├─ Epoch 5 loss: 0.2949087266474644 (Acc.: 91.69 %)\n",
      "├─ Epoch 6 loss: 0.29083943864239303 (Acc.: 91.91 %)\n",
      "├─ Epoch 7 loss: 0.28690241581436665 (Acc.: 91.98 %)\n",
      "├─ Epoch 8 loss: 0.28346134953772717 (Acc.: 91.84 %)\n",
      "├─ Epoch 9 loss: 0.2830843968130251 (Acc.: 91.98 %)\n",
      "├─ Epoch 10 loss: 0.2782379801172628 (Acc.: 92.02 %)\n",
      "╰─[Accuracy of the model on the test images: 92.02 %]\n"
     ]
    }
   ],
   "source": [
    "# Training a model on MNIST:\n",
    "\n",
    "import torch \n",
    "import torch.nn as nn \n",
    "import torch.nn.functional as F \n",
    "import torch.optim as optim \n",
    "from torchvision import datasets, transforms # Define dataset \n",
    "transform = transforms.Compose([transforms.ToTensor(), transforms.Normalize((0.5,), (0.5,))]) \n",
    "trainset = datasets.MNIST('./data', download=True, train=True, transform=transform) \n",
    "\n",
    "testset = datasets.MNIST('./data', download=True, train=False, transform=transform) \n",
    "trainloader = torch.utils.data.DataLoader(trainset, batch_size=64, shuffle=True) \n",
    "testloader = torch.utils.data.DataLoader(testset, batch_size=64, shuffle=True) \n",
    "\n",
    "\n",
    "# Define model architecture \n",
    "class Net(nn.Module):\n",
    "    def __init__(self,n=16):\n",
    "        super().__init__()\n",
    "        self.hidden_layer = nn.Linear(784,n)\n",
    "        self.flatten = nn.Flatten()\n",
    "        self.finale_layer = nn.Linear(n,10)\n",
    "        \n",
    "    def forward(self,x):\n",
    "        x = self.flatten(x)\n",
    "        x = self.hidden_layer(x)\n",
    "        x = self.finale_layer(x)\n",
    "        return x\n",
    "n = 16\n",
    "model = Net(n)\n",
    "# Define loss and optimizer \n",
    "criterion = nn.CrossEntropyLoss() \n",
    "optimizer = torch.optim.Adam(model.parameters(), lr=0.001) \n",
    "\n",
    "def evaluate(model,testloader):\n",
    "    # Test the model \n",
    "    correct = 0 \n",
    "    total = 0 \n",
    "    with torch.no_grad(): \n",
    "        for data in testloader: \n",
    "            images, labels = data \n",
    "            outputs = model(images) \n",
    "            _, predicted = torch.max(outputs.data, 1) \n",
    "            total += labels.size(0) \n",
    "            correct += (predicted == labels).sum().item() \n",
    "    return 100 * correct / total\n",
    "\n",
    "# Train the model \n",
    "print(\"Training the Model:\")\n",
    "for epoch in range(10): \n",
    "    running_loss = 0.0 \n",
    "    for i, data in enumerate(trainloader): \n",
    "        inputs, labels = data \n",
    "        optimizer.zero_grad() \n",
    "        # Forward pass \n",
    "        outputs = model(inputs) \n",
    "        loss = criterion(outputs, labels) # Backward pass and optimize \n",
    "        loss.backward() \n",
    "        optimizer.step() \n",
    "        running_loss += loss.item() \n",
    "    print(f'├─ Epoch {epoch+1} loss: {running_loss/len(trainloader)} (Acc.: {evaluate(model,testloader)} %)') \n",
    "\n",
    "\n",
    "print(f'╰─[Accuracy of the model on the test images: {evaluate(model,testloader)} %]')"
   ]
  },
  {
   "cell_type": "markdown",
   "metadata": {},
   "source": [
    "# Example 2: Computing a heatmap explanation with CRP\n",
    "\n",
    "---\n",
    "\n",
    "The following code computes the explanation of the network prediction in form of a heatmap. <br>\n",
    "You can use/adapt it for you backend-logic. Interactions with your web-app should change the parameters \n",
    "- `idx` - which changes the input of the neural network\n",
    "- `hidden_neuron_idx` - index of the hidden neuron (which concept) we condition the explanation on (see CRP)\n",
    "- `output_neuron_idx` - index of the output neuron (which output-class) we condition the explanation on"
   ]
  },
  {
   "cell_type": "code",
   "execution_count": 40,
   "metadata": {
    "ExecuteTime": {
     "end_time": "2023-11-15T11:59:10.794489Z",
     "start_time": "2023-11-15T11:59:10.572756Z"
    }
   },
   "outputs": [
    {
     "name": "stdout",
     "output_type": "stream",
     "text": [
      "Actual Label: 9\n",
      "Predicted Label: 9\n"
     ]
    }
   ],
   "source": [
    "# Computing CRP heatmap explanations:\n",
    "\n",
    "# modules used for visualizing the images\n",
    "import matplotlib.pyplot as plt\n",
    "from matplotlib.colors import Normalize\n",
    "\n",
    "# modules for computing the explanations\n",
    "from zennit.composites import EpsilonPlus\n",
    "from crp.attribution import CondAttribution\n",
    "\n",
    "\n",
    "vis_testset = datasets.MNIST('./data', \n",
    "                             download=True, \n",
    "                             train=False, \n",
    "                             transform=transforms.Compose([transforms.ToTensor()])) \n",
    "# ╰─ Visualization-Dataset without normalization applied.\n",
    "\n",
    "\n",
    "# ··········· PARAMETERS ·············\n",
    "# PLAY AROUND WITH THOSE VALUES TO SEE\n",
    "# HOW THE EXPLANATIONS CHANGE. THESE \n",
    "# PARAMETERS HAVE TO BE INTERACTIVELY\n",
    "# ADJUSTED BY THE USER IN YOUR DEMO.\n",
    "idx = 20                               # index of the data sample in the dataset\n",
    "hidden_neuron_idx = 8 # 0-15 or None    # index of the hidden neuron (which concept) we condition the explanation on\n",
    "output_neuron_idx = 7 # 0-9             # index of the output neuron (which output-class) we condition the explanation on\n",
    "# ····································\n",
    "\n",
    "\n",
    "# There are several different rules to compute relevances.\n",
    "# Here we initialize the explainer with our model and the LRP-rule,\n",
    "# and set the conditions for the explanation based on the above values.\n",
    "attributor = CondAttribution(model, EpsilonPlus()) \n",
    "conditions=[{\n",
    "    'y':output_neuron_idx,\n",
    "    'hidden_layer':hidden_neuron_idx\n",
    "}]\n",
    "\n",
    "# load and init sample \n",
    "sample = testset[idx][0]        # transformed test-data is used\n",
    "sample = sample.unsqueeze(0)    \n",
    "sample.requires_grad_()         # for the heatmap computation the data requires gradients\n",
    "\n",
    "# Compute the explanation:\n",
    "attribution = attributor(sample,conditions=conditions)\n",
    "heatmap = attribution.heatmap # THIS IS THE HEATMAP YOU NEED TO SHOW\n",
    "\n",
    "\n",
    "# Visualizing samples side-by-side, just for illustration purposes:\n",
    "vis_heatmap = heatmap.permute(1,2,0)\n",
    "viz_sample = vis_testset[idx][0].permute(1,2,0)\n",
    "\n",
    "fig, axes = plt.subplots(1,2,dpi=600,figsize=(8,5))\n",
    "v = max(abs(heatmap.max().item()), abs(heatmap.min().item()))\n",
    "\n",
    "axes[0].imshow(viz_sample, cmap='gray')\n",
    "axes[1].imshow(vis_heatmap, cmap='seismic',norm=Normalize(vmin=-v,vmax=v))\n",
    "\n",
    "axes[0].set_title(\"Input\")\n",
    "axes[1].set_title(\"(Conditional) Heatmap\")\n",
    "axes[0].axis('off')\n",
    "axes[1].axis('off')\n",
    "fig.tight_layout()\n",
    "plt.show()"
   ]
  },
  {
   "cell_type": "code",
   "execution_count": 19,
   "outputs": [
    {
     "data": {
      "text/plain": "tensor([[[ 1.2634e-02],\n         [-2.9026e-02],\n         [-1.7533e-02],\n         [-3.5637e-02],\n         [-3.8002e-02],\n         [ 7.9444e-03],\n         [ 3.1356e-03],\n         [-1.9780e-02],\n         [-1.4958e-02],\n         [-3.9280e-02],\n         [-2.8816e-02],\n         [ 8.8113e-03],\n         [-1.3175e-02],\n         [ 1.2918e-02],\n         [ 1.9993e-02],\n         [-1.5487e-02],\n         [-3.4064e-02],\n         [-2.4180e-02],\n         [-3.7458e-02],\n         [-1.3392e-02],\n         [-8.2129e-04],\n         [ 7.5830e-03],\n         [ 4.0185e-03],\n         [ 1.7096e-03],\n         [ 1.4183e-03],\n         [-2.0491e-02],\n         [-2.0846e-02],\n         [-5.5600e-03]],\n\n        [[-1.4391e-02],\n         [-2.9809e-02],\n         [-4.0576e-03],\n         [-1.2118e-02],\n         [-3.8571e-02],\n         [ 1.6388e-02],\n         [ 1.1155e-02],\n         [-1.3311e-02],\n         [ 4.9152e-03],\n         [ 7.1009e-03],\n         [-3.7863e-02],\n         [ 1.6765e-02],\n         [-1.8107e-02],\n         [-2.0748e-02],\n         [-3.2139e-03],\n         [-3.9295e-02],\n         [-1.3084e-02],\n         [ 3.0479e-03],\n         [ 1.5232e-02],\n         [ 1.0616e-02],\n         [ 1.5377e-02],\n         [-3.6391e-02],\n         [ 8.5716e-03],\n         [-3.7169e-02],\n         [-2.0844e-03],\n         [-2.3009e-02],\n         [-1.1257e-03],\n         [-2.2182e-02]],\n\n        [[-2.2720e-02],\n         [-1.9840e-02],\n         [ 1.1263e-02],\n         [-3.6732e-02],\n         [ 3.2419e-04],\n         [-2.3828e-02],\n         [-1.0934e-02],\n         [-9.9369e-03],\n         [-2.2177e-02],\n         [-1.2687e-02],\n         [-6.1973e-02],\n         [-3.8249e-02],\n         [-4.5905e-02],\n         [-6.8100e-02],\n         [-5.4643e-02],\n         [-8.3610e-02],\n         [-6.8716e-02],\n         [-5.4318e-02],\n         [-8.5621e-03],\n         [-4.7576e-02],\n         [-1.8993e-02],\n         [-4.1837e-02],\n         [-3.5598e-02],\n         [-3.4124e-02],\n         [ 1.5235e-02],\n         [-2.2949e-02],\n         [ 6.8156e-03],\n         [-1.2063e-02]],\n\n        [[ 1.3522e-02],\n         [-5.1749e-03],\n         [-3.5830e-02],\n         [-1.8471e-02],\n         [ 1.5558e-02],\n         [-3.0461e-02],\n         [-3.4462e-02],\n         [ 2.2519e-03],\n         [ 3.0416e-03],\n         [-5.0912e-02],\n         [-3.9425e-02],\n         [-2.8408e-02],\n         [-3.3044e-02],\n         [-1.2297e-02],\n         [ 2.2573e-02],\n         [-2.6206e-02],\n         [ 1.9484e-02],\n         [ 1.6391e-02],\n         [ 6.9952e-02],\n         [ 2.8489e-02],\n         [ 4.7799e-02],\n         [ 1.3535e-02],\n         [ 2.0759e-03],\n         [-5.2916e-03],\n         [ 4.8975e-03],\n         [ 8.4718e-03],\n         [ 1.8699e-02],\n         [-3.5365e-02]],\n\n        [[ 2.7722e-03],\n         [-3.4823e-02],\n         [-2.6464e-02],\n         [ 9.6793e-03],\n         [ 1.3327e-02],\n         [-1.0349e-02],\n         [-1.0131e-02],\n         [ 1.0802e-02],\n         [-2.7478e-02],\n         [-5.6519e-02],\n         [-1.0074e-02],\n         [ 5.7276e-03],\n         [-2.7071e-02],\n         [-3.4718e-02],\n         [-4.0050e-02],\n         [ 1.2201e-02],\n         [-6.0025e-02],\n         [-4.5545e-02],\n         [ 5.6531e-02],\n         [ 4.8644e-03],\n         [-5.1569e-02],\n         [-5.5324e-03],\n         [ 4.5286e-03],\n         [ 1.9759e-02],\n         [ 6.0578e-02],\n         [ 1.5798e-02],\n         [-1.2773e-02],\n         [-3.4942e-02]],\n\n        [[ 4.5128e-04],\n         [-1.3423e-02],\n         [-1.1271e-02],\n         [ 2.2112e-02],\n         [-4.0122e-02],\n         [ 1.0351e-02],\n         [-3.9044e-02],\n         [-1.1742e-02],\n         [ 4.8973e-03],\n         [ 1.6685e-02],\n         [-1.5425e-02],\n         [ 7.6048e-02],\n         [-3.8087e-03],\n         [ 5.5677e-02],\n         [-5.5458e-02],\n         [-5.5360e-02],\n         [-7.1654e-02],\n         [-8.0693e-02],\n         [-5.6354e-02],\n         [-6.9605e-02],\n         [-7.1984e-02],\n         [-7.9736e-02],\n         [-1.7543e-02],\n         [-5.7393e-02],\n         [ 3.1205e-03],\n         [ 5.9826e-02],\n         [-7.1861e-03],\n         [ 1.4317e-02]],\n\n        [[-1.5509e-02],\n         [-2.3334e-02],\n         [-1.8327e-02],\n         [-1.3071e-02],\n         [-5.0494e-02],\n         [ 4.2912e-03],\n         [ 1.8062e-02],\n         [-7.2784e-03],\n         [ 2.8807e-02],\n         [ 2.2698e-03],\n         [ 4.1364e-02],\n         [ 7.7560e-02],\n         [ 5.9071e-02],\n         [ 1.5814e-01],\n         [ 1.4465e-01],\n         [ 7.6187e-02],\n         [ 1.1776e-01],\n         [ 7.3759e-02],\n         [ 1.5801e-01],\n         [ 6.6803e-02],\n         [ 5.1032e-02],\n         [ 3.6433e-02],\n         [-5.4906e-04],\n         [-1.2720e-02],\n         [ 1.8283e-02],\n         [ 3.7976e-02],\n         [-3.2936e-04],\n         [ 1.5790e-02]],\n\n        [[-6.3217e-03],\n         [ 1.4711e-02],\n         [-2.5611e-02],\n         [-2.7544e-02],\n         [-8.5384e-02],\n         [-4.9974e-02],\n         [-1.5509e-02],\n         [-4.8648e-02],\n         [ 3.5976e-04],\n         [ 1.9660e-02],\n         [ 8.7398e-02],\n         [ 7.3489e-02],\n         [ 1.3189e-01],\n         [ 1.3461e-01],\n         [ 1.8111e-01],\n         [ 1.4216e-01],\n         [ 1.6960e-01],\n         [ 1.7396e-01],\n         [ 1.0329e-01],\n         [ 1.2390e-01],\n         [ 1.2462e-01],\n         [ 1.9531e-02],\n         [-1.2832e-02],\n         [ 1.0485e-02],\n         [ 3.2109e-02],\n         [ 6.9954e-02],\n         [ 4.7074e-03],\n         [ 5.9136e-03]],\n\n        [[ 6.2706e-03],\n         [-2.9607e-02],\n         [ 5.0747e-03],\n         [-1.6357e-02],\n         [-8.6173e-02],\n         [-7.1947e-02],\n         [-2.7700e-02],\n         [-6.4220e-02],\n         [ 6.4433e-02],\n         [ 1.4386e-02],\n         [ 2.3586e-03],\n         [ 2.6582e-02],\n         [ 4.2477e-02],\n         [ 4.0693e-03],\n         [ 1.9426e-01],\n         [ 1.4636e-01],\n         [ 1.7281e-01],\n         [ 4.5666e-02],\n         [ 1.5514e-01],\n         [ 5.1943e-02],\n         [ 1.0881e-01],\n         [ 7.5744e-02],\n         [ 6.2708e-02],\n         [ 6.6788e-02],\n         [ 1.4789e-01],\n         [ 7.1768e-02],\n         [ 4.0704e-02],\n         [ 1.2283e-02]],\n\n        [[ 1.4202e-02],\n         [-1.0315e-02],\n         [ 8.5377e-03],\n         [ 2.2682e-02],\n         [-4.2182e-02],\n         [-5.1420e-02],\n         [ 5.4653e-02],\n         [ 1.2167e-02],\n         [ 5.7308e-02],\n         [ 1.1845e-02],\n         [ 5.0237e-02],\n         [ 4.3073e-02],\n         [ 7.6285e-02],\n         [ 6.2628e-02],\n         [ 1.4742e-01],\n         [ 1.1616e-01],\n         [ 1.4461e-02],\n         [ 1.3981e-01],\n         [ 1.0720e-01],\n         [ 9.0559e-02],\n         [ 7.2487e-02],\n         [ 1.9419e-02],\n         [ 3.6315e-02],\n         [ 1.1892e-01],\n         [ 2.6437e-01],\n         [ 1.3223e-01],\n         [ 5.2855e-02],\n         [-1.5286e-03]],\n\n        [[-3.3955e-02],\n         [-2.1385e-02],\n         [ 2.5272e-02],\n         [ 2.5794e-02],\n         [-1.1893e-02],\n         [-1.3156e-02],\n         [ 2.2477e-02],\n         [-3.6266e-03],\n         [-8.2285e-03],\n         [ 4.7117e-02],\n         [ 3.5135e-03],\n         [-3.6948e-02],\n         [-2.3768e-02],\n         [ 5.4625e-02],\n         [ 1.3716e-01],\n         [ 4.0514e-02],\n         [ 1.0078e-01],\n         [ 2.2937e-02],\n         [ 4.5364e-02],\n         [ 7.7868e-03],\n         [ 4.3112e-02],\n         [ 2.1626e-02],\n         [ 8.1328e-02],\n         [ 1.5899e-01],\n         [ 2.7029e-01],\n         [ 1.8730e-01],\n         [ 5.4875e-02],\n         [-2.6119e-02]],\n\n        [[-7.6445e-03],\n         [-7.4940e-03],\n         [ 1.7029e-03],\n         [ 5.3233e-02],\n         [ 2.6702e-02],\n         [-3.1875e-02],\n         [ 5.7946e-02],\n         [-3.0702e-02],\n         [ 6.2562e-02],\n         [ 9.4079e-03],\n         [ 4.9729e-02],\n         [ 9.9955e-02],\n         [ 1.0109e-02],\n         [ 1.5067e-01],\n         [ 9.0135e-02],\n         [-2.3260e-03],\n         [-3.5432e-02],\n         [ 1.5455e-01],\n         [ 6.5064e-02],\n         [ 2.4412e-03],\n         [ 1.0853e-01],\n         [ 1.2400e-02],\n         [ 7.7834e-04],\n         [ 1.2960e-02],\n         [ 1.0903e-01],\n         [ 7.6258e-02],\n         [ 3.8423e-03],\n         [-2.0856e-02]],\n\n        [[ 8.4486e-03],\n         [ 1.1271e-02],\n         [ 3.3600e-02],\n         [ 6.4040e-02],\n         [ 9.8757e-02],\n         [ 7.3662e-02],\n         [ 1.1630e-01],\n         [ 4.5136e-02],\n         [ 4.8271e-02],\n         [ 3.6290e-03],\n         [ 1.3429e-01],\n         [ 7.9288e-02],\n         [-8.5989e-02],\n         [-4.0787e-03],\n         [ 4.3200e-02],\n         [ 3.0389e-02],\n         [-8.2072e-02],\n         [ 2.7145e-02],\n         [ 8.5495e-02],\n         [ 2.7794e-02],\n         [-1.7433e-02],\n         [-1.3968e-01],\n         [-1.5317e-01],\n         [-1.3519e-01],\n         [-1.2345e-01],\n         [-3.9292e-04],\n         [ 3.2014e-02],\n         [-1.4926e-02]],\n\n        [[-3.8771e-02],\n         [ 1.1629e-02],\n         [-3.8786e-03],\n         [ 5.5992e-02],\n         [ 1.2185e-01],\n         [ 1.3674e-01],\n         [ 6.0741e-02],\n         [ 1.2350e-01],\n         [ 1.6795e-02],\n         [-1.1811e-02],\n         [ 8.6234e-02],\n         [-1.7444e-02],\n         [-9.4195e-02],\n         [-3.7019e-02],\n         [-6.9726e-03],\n         [-1.8202e-01],\n         [-6.5624e-02],\n         [-1.5587e-03],\n         [ 3.3003e-02],\n         [ 5.1402e-02],\n         [-3.7981e-02],\n         [-8.4690e-02],\n         [-1.1017e-01],\n         [-1.8285e-01],\n         [-1.3576e-01],\n         [-7.5463e-02],\n         [-4.6010e-03],\n         [ 5.3562e-03]],\n\n        [[-1.0787e-02],\n         [-1.7475e-02],\n         [-2.6882e-02],\n         [ 4.9225e-03],\n         [ 6.4765e-02],\n         [ 5.7003e-02],\n         [-2.1428e-03],\n         [ 6.6730e-02],\n         [ 5.7728e-02],\n         [ 7.4811e-02],\n         [ 3.6858e-02],\n         [-1.0308e-01],\n         [-9.4141e-02],\n         [-4.2269e-02],\n         [-1.2241e-01],\n         [-1.0431e-01],\n         [-1.1820e-01],\n         [-2.9787e-02],\n         [ 4.5657e-05],\n         [-3.1114e-02],\n         [ 3.2653e-02],\n         [ 5.4100e-02],\n         [-2.9309e-02],\n         [-3.9123e-02],\n         [-8.1296e-02],\n         [-1.0888e-01],\n         [-5.7484e-03],\n         [-2.9308e-02]],\n\n        [[ 1.9166e-02],\n         [ 2.2015e-02],\n         [-3.1776e-03],\n         [-3.4944e-02],\n         [ 6.0417e-03],\n         [-3.4577e-02],\n         [-6.5997e-02],\n         [-4.5927e-02],\n         [-2.0346e-02],\n         [ 1.0241e-02],\n         [ 7.3520e-02],\n         [-3.9615e-02],\n         [-8.3321e-02],\n         [-1.5916e-01],\n         [-3.0900e-01],\n         [-4.9833e-02],\n         [-1.0739e-01],\n         [ 5.6973e-04],\n         [ 7.6262e-02],\n         [ 1.7793e-02],\n         [ 1.1697e-01],\n         [ 6.7149e-02],\n         [ 5.5870e-02],\n         [ 4.2922e-02],\n         [ 4.4315e-03],\n         [-1.1257e-01],\n         [-6.9304e-02],\n         [-3.1697e-02]],\n\n        [[ 9.1519e-03],\n         [-1.5268e-03],\n         [ 1.0839e-02],\n         [-1.6949e-02],\n         [ 2.9386e-02],\n         [ 6.2375e-03],\n         [-9.7237e-02],\n         [-1.2752e-01],\n         [-7.3632e-02],\n         [-1.3626e-01],\n         [-3.4898e-02],\n         [-1.1037e-01],\n         [-7.0488e-02],\n         [-1.4369e-01],\n         [-2.2596e-01],\n         [-1.0958e-01],\n         [-1.4598e-01],\n         [-1.3858e-02],\n         [ 4.1766e-03],\n         [ 4.9363e-03],\n         [ 5.2717e-02],\n         [-1.8286e-02],\n         [ 6.3202e-02],\n         [-6.0385e-05],\n         [-5.5029e-02],\n         [-1.5479e-01],\n         [-7.0267e-02],\n         [-3.9952e-05]],\n\n        [[-6.9378e-03],\n         [-2.4660e-02],\n         [ 2.3821e-03],\n         [-1.1576e-02],\n         [ 4.7875e-02],\n         [ 3.9055e-02],\n         [ 8.8149e-03],\n         [-6.9397e-02],\n         [-1.2312e-01],\n         [-1.5542e-01],\n         [-1.3426e-01],\n         [-1.4166e-01],\n         [-1.5392e-01],\n         [-2.3516e-01],\n         [-2.2637e-01],\n         [-3.8656e-02],\n         [-3.6581e-02],\n         [ 8.8881e-02],\n         [ 2.9260e-02],\n         [ 4.5951e-02],\n         [ 4.1745e-02],\n         [-2.8404e-02],\n         [ 1.7770e-02],\n         [-3.7723e-04],\n         [-8.3793e-02],\n         [-1.4758e-01],\n         [-3.0753e-03],\n         [-9.1697e-03]],\n\n        [[ 7.1448e-03],\n         [-2.5355e-02],\n         [-1.4590e-02],\n         [ 7.0061e-03],\n         [ 2.5726e-02],\n         [ 7.3071e-03],\n         [ 3.6352e-02],\n         [-3.1973e-02],\n         [-7.4972e-02],\n         [-1.0282e-01],\n         [-1.1937e-02],\n         [-1.8462e-02],\n         [-2.7610e-01],\n         [-2.0614e-01],\n         [-1.0508e-01],\n         [-5.8613e-03],\n         [-1.3452e-02],\n         [ 1.1710e-02],\n         [-6.7374e-02],\n         [ 2.0872e-02],\n         [-1.3868e-02],\n         [ 2.1966e-02],\n         [ 3.1223e-02],\n         [-1.0774e-01],\n         [-1.2315e-01],\n         [-1.2779e-01],\n         [-7.1759e-03],\n         [-9.9266e-03]],\n\n        [[-3.0519e-02],\n         [ 1.7754e-02],\n         [ 1.1393e-02],\n         [ 5.1376e-02],\n         [ 4.8079e-02],\n         [ 5.4709e-02],\n         [ 5.4526e-02],\n         [-5.3519e-02],\n         [ 6.6803e-02],\n         [-1.0036e-01],\n         [-6.3931e-02],\n         [-6.4488e-02],\n         [-3.2522e-02],\n         [-6.7139e-02],\n         [-8.4097e-02],\n         [-1.1852e-01],\n         [-9.8450e-02],\n         [-4.6156e-02],\n         [-7.4751e-03],\n         [ 1.6806e-02],\n         [-3.7156e-03],\n         [-2.6490e-02],\n         [-5.6415e-02],\n         [-5.6221e-02],\n         [-6.6612e-02],\n         [-9.8155e-02],\n         [-2.6496e-02],\n         [ 5.9716e-03]],\n\n        [[-3.2093e-02],\n         [-1.6044e-02],\n         [-9.4106e-03],\n         [-1.7615e-03],\n         [ 1.7754e-02],\n         [ 9.8282e-02],\n         [-1.7054e-02],\n         [-9.1105e-02],\n         [ 2.7166e-02],\n         [ 7.3897e-03],\n         [-1.0249e-01],\n         [-7.5295e-02],\n         [-1.0884e-01],\n         [ 2.2377e-02],\n         [-6.7177e-02],\n         [-6.6405e-02],\n         [-4.4479e-02],\n         [ 2.9015e-02],\n         [-8.0436e-02],\n         [-7.7950e-03],\n         [-7.6491e-02],\n         [-1.0673e-01],\n         [ 2.6692e-02],\n         [-4.8301e-02],\n         [-3.3647e-02],\n         [-5.0299e-03],\n         [-3.5236e-02],\n         [ 7.4830e-03]],\n\n        [[-1.7881e-02],\n         [-2.9805e-05],\n         [-3.1443e-02],\n         [ 1.1506e-02],\n         [ 1.0934e-02],\n         [ 2.5004e-03],\n         [-8.5191e-03],\n         [-1.8691e-03],\n         [-2.4033e-02],\n         [-5.7797e-02],\n         [-4.6849e-02],\n         [-3.0275e-02],\n         [-5.5598e-02],\n         [-8.2088e-02],\n         [-9.3198e-02],\n         [-1.7701e-02],\n         [ 3.7235e-03],\n         [-1.5559e-01],\n         [-1.3769e-01],\n         [-1.1672e-01],\n         [-9.1547e-02],\n         [-3.6613e-02],\n         [-4.2880e-02],\n         [-6.2571e-02],\n         [-3.3555e-02],\n         [-3.0815e-02],\n         [-3.8007e-02],\n         [-2.0676e-02]],\n\n        [[-1.0950e-02],\n         [-6.6273e-03],\n         [-1.6797e-02],\n         [-9.5624e-03],\n         [-3.1022e-02],\n         [-4.5804e-02],\n         [-7.5025e-02],\n         [-6.0327e-02],\n         [-3.0505e-02],\n         [-4.5050e-02],\n         [-3.7708e-03],\n         [ 1.9851e-04],\n         [ 4.3041e-02],\n         [ 9.8496e-03],\n         [ 2.3659e-02],\n         [-5.4391e-02],\n         [ 1.1904e-02],\n         [-1.9280e-02],\n         [-6.9226e-02],\n         [-9.1632e-02],\n         [-4.7679e-02],\n         [-9.0921e-02],\n         [-8.5428e-03],\n         [ 2.5235e-02],\n         [-3.7979e-02],\n         [-3.9206e-02],\n         [-3.1923e-02],\n         [-3.3025e-02]],\n\n        [[-2.3583e-02],\n         [-2.4783e-02],\n         [-3.8890e-02],\n         [-1.7935e-02],\n         [ 3.4613e-02],\n         [ 5.5085e-02],\n         [ 4.1952e-02],\n         [ 2.9122e-02],\n         [ 1.3019e-02],\n         [-1.0160e-02],\n         [ 7.2473e-02],\n         [-7.6105e-03],\n         [-6.0455e-02],\n         [-1.5083e-02],\n         [ 2.1089e-02],\n         [-3.6893e-02],\n         [-8.3539e-02],\n         [-6.0485e-02],\n         [-1.2903e-01],\n         [-1.6411e-01],\n         [-1.2491e-01],\n         [-7.9286e-02],\n         [-3.8503e-02],\n         [-5.7642e-04],\n         [-2.2989e-02],\n         [ 1.0199e-03],\n         [ 6.0632e-03],\n         [-2.0008e-02]],\n\n        [[-4.1794e-03],\n         [-1.2806e-02],\n         [-2.6540e-02],\n         [ 1.7648e-02],\n         [ 3.1039e-02],\n         [ 1.0964e-01],\n         [ 1.0339e-01],\n         [ 1.0783e-01],\n         [ 1.1654e-01],\n         [ 5.9978e-02],\n         [ 7.3288e-02],\n         [ 5.8194e-02],\n         [ 6.6838e-02],\n         [ 1.1863e-01],\n         [ 3.6612e-02],\n         [ 1.8326e-02],\n         [-2.5440e-02],\n         [ 4.4607e-02],\n         [-8.2920e-02],\n         [-9.6250e-02],\n         [-5.2874e-03],\n         [-1.2985e-02],\n         [ 2.6315e-02],\n         [ 2.6869e-02],\n         [-4.0204e-02],\n         [-4.9013e-02],\n         [-1.5283e-02],\n         [-3.6946e-02]],\n\n        [[-1.3686e-02],\n         [-3.5258e-02],\n         [-2.7618e-02],\n         [ 7.6416e-03],\n         [ 1.4282e-02],\n         [ 7.2799e-02],\n         [ 6.3617e-02],\n         [ 1.3958e-01],\n         [ 1.6861e-01],\n         [ 1.6707e-01],\n         [ 1.3442e-01],\n         [ 1.5944e-01],\n         [ 1.7496e-01],\n         [ 1.2604e-01],\n         [ 1.0134e-01],\n         [ 5.8553e-02],\n         [ 9.4367e-02],\n         [ 8.8465e-02],\n         [ 1.1383e-01],\n         [ 1.1369e-01],\n         [ 8.5793e-02],\n         [ 4.9762e-02],\n         [ 2.6531e-02],\n         [ 1.0969e-03],\n         [-1.2165e-02],\n         [-3.3486e-02],\n         [ 3.7862e-03],\n         [-1.8351e-02]],\n\n        [[-2.8115e-02],\n         [ 1.2628e-02],\n         [ 1.7100e-02],\n         [-3.3441e-02],\n         [-2.7548e-02],\n         [ 1.7974e-02],\n         [-1.7509e-02],\n         [ 2.2411e-02],\n         [ 2.5122e-02],\n         [ 6.8725e-02],\n         [ 9.2247e-02],\n         [ 1.2856e-01],\n         [ 1.2393e-01],\n         [ 1.4546e-01],\n         [ 1.4743e-01],\n         [ 1.5512e-01],\n         [ 1.3612e-01],\n         [ 1.2084e-01],\n         [ 8.7757e-02],\n         [ 6.8565e-02],\n         [ 4.7636e-02],\n         [ 4.2642e-02],\n         [-4.6292e-03],\n         [-3.3598e-02],\n         [-3.7057e-02],\n         [ 6.0224e-03],\n         [-7.6189e-03],\n         [ 1.1511e-02]],\n\n        [[ 1.6489e-02],\n         [-2.2704e-03],\n         [-6.8775e-03],\n         [-3.9384e-03],\n         [-2.3796e-02],\n         [-2.0290e-02],\n         [ 1.7833e-02],\n         [-2.2312e-02],\n         [ 1.5045e-02],\n         [-3.4366e-02],\n         [ 5.3005e-03],\n         [-5.8554e-03],\n         [ 4.4939e-03],\n         [ 6.8932e-03],\n         [-4.4890e-03],\n         [-2.9177e-02],\n         [-2.3064e-02],\n         [ 2.1890e-02],\n         [-1.0372e-02],\n         [ 2.0783e-02],\n         [ 1.4335e-02],\n         [ 8.9557e-03],\n         [-3.4429e-02],\n         [-1.9002e-02],\n         [ 1.0475e-02],\n         [-2.8192e-02],\n         [-2.5952e-02],\n         [ 1.0909e-02]]])"
     },
     "execution_count": 19,
     "metadata": {},
     "output_type": "execute_result"
    },
    {
     "data": {
      "text/plain": "<Figure size 640x480 with 1 Axes>",
      "image/png": "[encoded data removed]"
     },
     "metadata": {},
     "output_type": "display_data"
    }
   ],
   "source": [],
   "metadata": {
    "collapsed": false,
    "ExecuteTime": {
     "end_time": "2023-11-15T04:53:25.567800Z",
     "start_time": "2023-11-15T04:53:25.490335Z"
    }
   }
  }
 ],
 "metadata": {
  "kernelspec": {
   "display_name": "Python 3 (ipykernel)",
   "language": "python",
   "name": "python3"
  },
  "language_info": {
   "codemirror_mode": {
    "name": "ipython",
    "version": 3
   },
   "file_extension": ".py",
   "mimetype": "text/x-python",
   "name": "python",
   "nbconvert_exporter": "python",
   "pygments_lexer": "ipython3",
   "version": "3.11.5"
  }
 },
 "nbformat": 4,
 "nbformat_minor": 4
}
